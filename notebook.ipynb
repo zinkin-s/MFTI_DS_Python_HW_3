{
 "cells": [
  {
   "cell_type": "code",
   "execution_count": 1,
   "metadata": {},
   "outputs": [],
   "source": [
    "import numpy as np\n",
    "import polars as pl\n",
    "import seaborn as sns\n",
    "import matplotlib.pyplot as plt"
   ]
  },
  {
   "cell_type": "code",
   "execution_count": 2,
   "metadata": {},
   "outputs": [],
   "source": [
    "lf = pl.scan_csv('data/train.csv')"
   ]
  },
  {
   "cell_type": "code",
   "execution_count": 3,
   "metadata": {},
   "outputs": [
    {
     "data": {
      "text/plain": [
       "Schema([('row_id', Int64),\n",
       "        ('timestamp', Int64),\n",
       "        ('user_id', Int64),\n",
       "        ('content_id', Int64),\n",
       "        ('content_type_id', Int64),\n",
       "        ('task_container_id', Int64),\n",
       "        ('user_answer', Int64),\n",
       "        ('answered_correctly', Int64),\n",
       "        ('prior_question_elapsed_time', Float64),\n",
       "        ('prior_question_had_explanation', Boolean)])"
      ]
     },
     "execution_count": 3,
     "metadata": {},
     "output_type": "execute_result"
    }
   ],
   "source": [
    "lf.collect_schema()"
   ]
  },
  {
   "cell_type": "code",
   "execution_count": 4,
   "metadata": {},
   "outputs": [
    {
     "data": {
      "text/html": [
       "<div><style>\n",
       ".dataframe > thead > tr,\n",
       ".dataframe > tbody > tr {\n",
       "  text-align: right;\n",
       "  white-space: pre-wrap;\n",
       "}\n",
       "</style>\n",
       "<small>shape: (5, 10)</small><table border=\"1\" class=\"dataframe\"><thead><tr><th>row_id</th><th>timestamp</th><th>user_id</th><th>content_id</th><th>content_type_id</th><th>task_container_id</th><th>user_answer</th><th>answered_correctly</th><th>prior_question_elapsed_time</th><th>prior_question_had_explanation</th></tr><tr><td>i64</td><td>i64</td><td>i64</td><td>i64</td><td>i64</td><td>i64</td><td>i64</td><td>i64</td><td>f64</td><td>bool</td></tr></thead><tbody><tr><td>0</td><td>0</td><td>115</td><td>5692</td><td>0</td><td>1</td><td>3</td><td>1</td><td>null</td><td>null</td></tr><tr><td>1</td><td>56943</td><td>115</td><td>5716</td><td>0</td><td>2</td><td>2</td><td>1</td><td>37000.0</td><td>false</td></tr><tr><td>2</td><td>118363</td><td>115</td><td>128</td><td>0</td><td>0</td><td>0</td><td>1</td><td>55000.0</td><td>false</td></tr><tr><td>3</td><td>131167</td><td>115</td><td>7860</td><td>0</td><td>3</td><td>0</td><td>1</td><td>19000.0</td><td>false</td></tr><tr><td>4</td><td>137965</td><td>115</td><td>7922</td><td>0</td><td>4</td><td>1</td><td>1</td><td>11000.0</td><td>false</td></tr></tbody></table></div>"
      ],
      "text/plain": [
       "shape: (5, 10)\n",
       "┌────────┬───────────┬─────────┬────────────┬───┬────────────┬────────────┬────────────┬───────────┐\n",
       "│ row_id ┆ timestamp ┆ user_id ┆ content_id ┆ … ┆ user_answe ┆ answered_c ┆ prior_ques ┆ prior_que │\n",
       "│ ---    ┆ ---       ┆ ---     ┆ ---        ┆   ┆ r          ┆ orrectly   ┆ tion_elaps ┆ stion_had │\n",
       "│ i64    ┆ i64       ┆ i64     ┆ i64        ┆   ┆ ---        ┆ ---        ┆ ed_time    ┆ _explanat │\n",
       "│        ┆           ┆         ┆            ┆   ┆ i64        ┆ i64        ┆ ---        ┆ ion       │\n",
       "│        ┆           ┆         ┆            ┆   ┆            ┆            ┆ f64        ┆ ---       │\n",
       "│        ┆           ┆         ┆            ┆   ┆            ┆            ┆            ┆ bool      │\n",
       "╞════════╪═══════════╪═════════╪════════════╪═══╪════════════╪════════════╪════════════╪═══════════╡\n",
       "│ 0      ┆ 0         ┆ 115     ┆ 5692       ┆ … ┆ 3          ┆ 1          ┆ null       ┆ null      │\n",
       "│ 1      ┆ 56943     ┆ 115     ┆ 5716       ┆ … ┆ 2          ┆ 1          ┆ 37000.0    ┆ false     │\n",
       "│ 2      ┆ 118363    ┆ 115     ┆ 128        ┆ … ┆ 0          ┆ 1          ┆ 55000.0    ┆ false     │\n",
       "│ 3      ┆ 131167    ┆ 115     ┆ 7860       ┆ … ┆ 0          ┆ 1          ┆ 19000.0    ┆ false     │\n",
       "│ 4      ┆ 137965    ┆ 115     ┆ 7922       ┆ … ┆ 1          ┆ 1          ┆ 11000.0    ┆ false     │\n",
       "└────────┴───────────┴─────────┴────────────┴───┴────────────┴────────────┴────────────┴───────────┘"
      ]
     },
     "execution_count": 4,
     "metadata": {},
     "output_type": "execute_result"
    }
   ],
   "source": [
    "lf.head().collect()"
   ]
  },
  {
   "cell_type": "code",
   "execution_count": 6,
   "metadata": {},
   "outputs": [
    {
     "data": {
      "text/html": [
       "<div><style>\n",
       ".dataframe > thead > tr,\n",
       ".dataframe > tbody > tr {\n",
       "  text-align: right;\n",
       "  white-space: pre-wrap;\n",
       "}\n",
       "</style>\n",
       "<small>shape: (1, 10)</small><table border=\"1\" class=\"dataframe\"><thead><tr><th>row_id</th><th>timestamp</th><th>user_id</th><th>content_id</th><th>content_type_id</th><th>task_container_id</th><th>user_answer</th><th>answered_correctly</th><th>prior_question_elapsed_time</th><th>prior_question_had_explanation</th></tr><tr><td>u32</td><td>u32</td><td>u32</td><td>u32</td><td>u32</td><td>u32</td><td>u32</td><td>u32</td><td>u32</td><td>u32</td></tr></thead><tbody><tr><td>100887649</td><td>72894331</td><td>390688</td><td>13670</td><td>2</td><td>10013</td><td>5</td><td>3</td><td>3253</td><td>3</td></tr></tbody></table></div>"
      ],
      "text/plain": [
       "shape: (1, 10)\n",
       "┌───────────┬───────────┬─────────┬────────────┬───┬───────────┬───────────┬───────────┬───────────┐\n",
       "│ row_id    ┆ timestamp ┆ user_id ┆ content_id ┆ … ┆ user_answ ┆ answered_ ┆ prior_que ┆ prior_que │\n",
       "│ ---       ┆ ---       ┆ ---     ┆ ---        ┆   ┆ er        ┆ correctly ┆ stion_ela ┆ stion_had │\n",
       "│ u32       ┆ u32       ┆ u32     ┆ u32        ┆   ┆ ---       ┆ ---       ┆ psed_time ┆ _explanat │\n",
       "│           ┆           ┆         ┆            ┆   ┆ u32       ┆ u32       ┆ ---       ┆ ion       │\n",
       "│           ┆           ┆         ┆            ┆   ┆           ┆           ┆ u32       ┆ ---       │\n",
       "│           ┆           ┆         ┆            ┆   ┆           ┆           ┆           ┆ u32       │\n",
       "╞═══════════╪═══════════╪═════════╪════════════╪═══╪═══════════╪═══════════╪═══════════╪═══════════╡\n",
       "│ 100887649 ┆ 72894331  ┆ 390688  ┆ 13670      ┆ … ┆ 5         ┆ 3         ┆ 3253      ┆ 3         │\n",
       "└───────────┴───────────┴─────────┴────────────┴───┴───────────┴───────────┴───────────┴───────────┘"
      ]
     },
     "execution_count": 6,
     "metadata": {},
     "output_type": "execute_result"
    }
   ],
   "source": [
    "lf.select(pl.all().approx_n_unique()).collect(streaming=True)"
   ]
  },
  {
   "cell_type": "code",
   "execution_count": 9,
   "metadata": {},
   "outputs": [
    {
     "data": {
      "text/html": [
       "<div><style>\n",
       ".dataframe > thead > tr,\n",
       ".dataframe > tbody > tr {\n",
       "  text-align: right;\n",
       "  white-space: pre-wrap;\n",
       "}\n",
       "</style>\n",
       "<small>shape: (2, 1)</small><table border=\"1\" class=\"dataframe\"><thead><tr><th>content_type_id</th></tr><tr><td>i64</td></tr></thead><tbody><tr><td>0</td></tr><tr><td>1</td></tr></tbody></table></div>"
      ],
      "text/plain": [
       "shape: (2, 1)\n",
       "┌─────────────────┐\n",
       "│ content_type_id │\n",
       "│ ---             │\n",
       "│ i64             │\n",
       "╞═════════════════╡\n",
       "│ 0               │\n",
       "│ 1               │\n",
       "└─────────────────┘"
      ]
     },
     "execution_count": 9,
     "metadata": {},
     "output_type": "execute_result"
    }
   ],
   "source": [
    "lf.select('content_type_id').unique().collect(streaming=True)"
   ]
  },
  {
   "cell_type": "code",
   "execution_count": 10,
   "metadata": {},
   "outputs": [
    {
     "data": {
      "text/html": [
       "<div><style>\n",
       ".dataframe > thead > tr,\n",
       ".dataframe > tbody > tr {\n",
       "  text-align: right;\n",
       "  white-space: pre-wrap;\n",
       "}\n",
       "</style>\n",
       "<small>shape: (5, 1)</small><table border=\"1\" class=\"dataframe\"><thead><tr><th>user_answer</th></tr><tr><td>i64</td></tr></thead><tbody><tr><td>1</td></tr><tr><td>2</td></tr><tr><td>0</td></tr><tr><td>3</td></tr><tr><td>-1</td></tr></tbody></table></div>"
      ],
      "text/plain": [
       "shape: (5, 1)\n",
       "┌─────────────┐\n",
       "│ user_answer │\n",
       "│ ---         │\n",
       "│ i64         │\n",
       "╞═════════════╡\n",
       "│ 1           │\n",
       "│ 2           │\n",
       "│ 0           │\n",
       "│ 3           │\n",
       "│ -1          │\n",
       "└─────────────┘"
      ]
     },
     "execution_count": 10,
     "metadata": {},
     "output_type": "execute_result"
    }
   ],
   "source": [
    "lf.select('user_answer').unique().collect(streaming=True)"
   ]
  },
  {
   "cell_type": "code",
   "execution_count": 11,
   "metadata": {},
   "outputs": [
    {
     "data": {
      "text/html": [
       "<div><style>\n",
       ".dataframe > thead > tr,\n",
       ".dataframe > tbody > tr {\n",
       "  text-align: right;\n",
       "  white-space: pre-wrap;\n",
       "}\n",
       "</style>\n",
       "<small>shape: (3, 1)</small><table border=\"1\" class=\"dataframe\"><thead><tr><th>answered_correctly</th></tr><tr><td>i64</td></tr></thead><tbody><tr><td>1</td></tr><tr><td>-1</td></tr><tr><td>0</td></tr></tbody></table></div>"
      ],
      "text/plain": [
       "shape: (3, 1)\n",
       "┌────────────────────┐\n",
       "│ answered_correctly │\n",
       "│ ---                │\n",
       "│ i64                │\n",
       "╞════════════════════╡\n",
       "│ 1                  │\n",
       "│ -1                 │\n",
       "│ 0                  │\n",
       "└────────────────────┘"
      ]
     },
     "execution_count": 11,
     "metadata": {},
     "output_type": "execute_result"
    }
   ],
   "source": [
    "lf.select('answered_correctly').unique().collect(streaming=True)"
   ]
  },
  {
   "cell_type": "code",
   "execution_count": 12,
   "metadata": {},
   "outputs": [
    {
     "data": {
      "text/html": [
       "<div><style>\n",
       ".dataframe > thead > tr,\n",
       ".dataframe > tbody > tr {\n",
       "  text-align: right;\n",
       "  white-space: pre-wrap;\n",
       "}\n",
       "</style>\n",
       "<small>shape: (3, 1)</small><table border=\"1\" class=\"dataframe\"><thead><tr><th>prior_question_had_explanation</th></tr><tr><td>bool</td></tr></thead><tbody><tr><td>false</td></tr><tr><td>true</td></tr><tr><td>null</td></tr></tbody></table></div>"
      ],
      "text/plain": [
       "shape: (3, 1)\n",
       "┌────────────────────────────────┐\n",
       "│ prior_question_had_explanation │\n",
       "│ ---                            │\n",
       "│ bool                           │\n",
       "╞════════════════════════════════╡\n",
       "│ false                          │\n",
       "│ true                           │\n",
       "│ null                           │\n",
       "└────────────────────────────────┘"
      ]
     },
     "execution_count": 12,
     "metadata": {},
     "output_type": "execute_result"
    }
   ],
   "source": [
    "lf.select('prior_question_had_explanation').unique().collect(streaming=True)"
   ]
  },
  {
   "cell_type": "code",
   "execution_count": 8,
   "metadata": {},
   "outputs": [
    {
     "data": {
      "text/html": [
       "<div><style>\n",
       ".dataframe > thead > tr,\n",
       ".dataframe > tbody > tr {\n",
       "  text-align: right;\n",
       "  white-space: pre-wrap;\n",
       "}\n",
       "</style>\n",
       "<small>shape: (1, 10)</small><table border=\"1\" class=\"dataframe\"><thead><tr><th>row_id</th><th>timestamp</th><th>user_id</th><th>content_id</th><th>content_type_id</th><th>task_container_id</th><th>user_answer</th><th>answered_correctly</th><th>prior_question_elapsed_time</th><th>prior_question_had_explanation</th></tr><tr><td>u32</td><td>u32</td><td>u32</td><td>u32</td><td>u32</td><td>u32</td><td>u32</td><td>u32</td><td>u32</td><td>u32</td></tr></thead><tbody><tr><td>0</td><td>0</td><td>0</td><td>0</td><td>0</td><td>0</td><td>0</td><td>0</td><td>2351538</td><td>392506</td></tr></tbody></table></div>"
      ],
      "text/plain": [
       "shape: (1, 10)\n",
       "┌────────┬───────────┬─────────┬────────────┬───┬────────────┬────────────┬────────────┬───────────┐\n",
       "│ row_id ┆ timestamp ┆ user_id ┆ content_id ┆ … ┆ user_answe ┆ answered_c ┆ prior_ques ┆ prior_que │\n",
       "│ ---    ┆ ---       ┆ ---     ┆ ---        ┆   ┆ r          ┆ orrectly   ┆ tion_elaps ┆ stion_had │\n",
       "│ u32    ┆ u32       ┆ u32     ┆ u32        ┆   ┆ ---        ┆ ---        ┆ ed_time    ┆ _explanat │\n",
       "│        ┆           ┆         ┆            ┆   ┆ u32        ┆ u32        ┆ ---        ┆ ion       │\n",
       "│        ┆           ┆         ┆            ┆   ┆            ┆            ┆ u32        ┆ ---       │\n",
       "│        ┆           ┆         ┆            ┆   ┆            ┆            ┆            ┆ u32       │\n",
       "╞════════╪═══════════╪═════════╪════════════╪═══╪════════════╪════════════╪════════════╪═══════════╡\n",
       "│ 0      ┆ 0         ┆ 0       ┆ 0          ┆ … ┆ 0          ┆ 0          ┆ 2351538    ┆ 392506    │\n",
       "└────────┴───────────┴─────────┴────────────┴───┴────────────┴────────────┴────────────┴───────────┘"
      ]
     },
     "execution_count": 8,
     "metadata": {},
     "output_type": "execute_result"
    }
   ],
   "source": [
    "lf.select(pl.all().null_count()).collect(streaming=True)"
   ]
  },
  {
   "cell_type": "code",
   "execution_count": 15,
   "metadata": {},
   "outputs": [],
   "source": [
    "dtypes = {\n",
    "    'row_id': pl.Int64,\n",
    "    'timestamp': pl.Int64,\n",
    "    'user_id': pl.Int64,\n",
    "    'content_id': pl.Int64,\n",
    "    'content_type_id': pl.Int8,\n",
    "    'task_container_id': pl.Int64,\n",
    "    'user_answer': pl.Int8,\n",
    "    'answered_correctly': pl.Int8,\n",
    "    'prior_question_elapsed_time': pl.Float64,\n",
    "    'prior_question_had_explanation': pl.Boolean\n",
    "}\n",
    "\n",
    "lf = pl.scan_csv('data/train.csv', schema_overrides=dtypes)"
   ]
  },
  {
   "cell_type": "code",
   "execution_count": 16,
   "metadata": {},
   "outputs": [
    {
     "data": {
      "text/plain": [
       "Schema([('row_id', Int64),\n",
       "        ('timestamp', Int64),\n",
       "        ('user_id', Int64),\n",
       "        ('content_id', Int64),\n",
       "        ('content_type_id', Int8),\n",
       "        ('task_container_id', Int64),\n",
       "        ('user_answer', Int8),\n",
       "        ('answered_correctly', Int8),\n",
       "        ('prior_question_elapsed_time', Float64),\n",
       "        ('prior_question_had_explanation', Boolean)])"
      ]
     },
     "execution_count": 16,
     "metadata": {},
     "output_type": "execute_result"
    }
   ],
   "source": [
    "lf.collect_schema()"
   ]
  },
  {
   "cell_type": "code",
   "execution_count": 20,
   "metadata": {},
   "outputs": [
    {
     "data": {
      "text/plain": [
       "<Axes: ylabel='Count'>"
      ]
     },
     "execution_count": 20,
     "metadata": {},
     "output_type": "execute_result"
    },
    {
     "data": {
      "image/png": "[encoded data removed]",
      "text/plain": [
       "<Figure size 640x480 with 1 Axes>"
      ]
     },
     "metadata": {},
     "output_type": "display_data"
    }
   ],
   "source": [
    "ts = lf.select('timestamp').collect(streaming=True) / (31536000000 / 12)\n",
    "sns.histplot(data=ts, bins=100)"
   ]
  },
  {
   "cell_type": "code",
   "execution_count": 45,
   "metadata": {},
   "outputs": [],
   "source": [
    "ds = lf.filter(\n",
    "    pl.col('timestamp') == 0\n",
    ").select(\n",
    "    pl.col('timestamp').count().alias('timestamp_zeros'),\n",
    "    pl.col('user_id').approx_n_unique().alias('unique_user_id')).collect(streaming=True)\n"
   ]
  },
  {
   "cell_type": "code",
   "execution_count": 44,
   "metadata": {},
   "outputs": [
    {
     "data": {
      "text/html": [
       "<div><style>\n",
       ".dataframe > thead > tr,\n",
       ".dataframe > tbody > tr {\n",
       "  text-align: right;\n",
       "  white-space: pre-wrap;\n",
       "}\n",
       "</style>\n",
       "<small>shape: (1, 2)</small><table border=\"1\" class=\"dataframe\"><thead><tr><th>timestamp_zeros</th><th>uneque_user_id</th></tr><tr><td>u32</td><td>u32</td></tr></thead><tbody><tr><td>396417</td><td>390688</td></tr></tbody></table></div>"
      ],
      "text/plain": [
       "shape: (1, 2)\n",
       "┌─────────────────┬────────────────┐\n",
       "│ timestamp_zeros ┆ uneque_user_id │\n",
       "│ ---             ┆ ---            │\n",
       "│ u32             ┆ u32            │\n",
       "╞═════════════════╪════════════════╡\n",
       "│ 396417          ┆ 390688         │\n",
       "└─────────────────┴────────────────┘"
      ]
     },
     "execution_count": 44,
     "metadata": {},
     "output_type": "execute_result"
    }
   ],
   "source": [
    "ds"
   ]
  },
  {
   "cell_type": "code",
   "execution_count": null,
   "metadata": {},
   "outputs": [],
   "source": []
  }
 ],
 "metadata": {
  "kernelspec": {
   "display_name": ".venv",
   "language": "python",
   "name": "python3"
  },
  "language_info": {
   "codemirror_mode": {
    "name": "ipython",
    "version": 3
   },
   "file_extension": ".py",
   "mimetype": "text/x-python",
   "name": "python",
   "nbconvert_exporter": "python",
   "pygments_lexer": "ipython3",
   "version": "3.12.6"
  }
 },
 "nbformat": 4,
 "nbformat_minor": 2
}
