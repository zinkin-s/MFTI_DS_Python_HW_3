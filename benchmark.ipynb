{
 "cells": [
  {
   "cell_type": "code",
   "execution_count": 18,
   "metadata": {},
   "outputs": [],
   "source": [
    "import polars as pl\n",
    "import pandas as pd\n",
    "import time\n",
    "import numpy as np"
   ]
  },
  {
   "cell_type": "code",
   "execution_count": 3,
   "metadata": {},
   "outputs": [
    {
     "name": "stdout",
     "output_type": "stream",
     "text": [
      "Polars 2.0193538665771484 seconds: 6987.138075828552\n"
     ]
    }
   ],
   "source": [
    "start = time.time()\n",
    "df = pl.read_csv('data/train.csv')\n",
    "end = time.time()\n",
    "print(f'Polars {end - start} seconds: {df.estimated_size('mb')}')"
   ]
  },
  {
   "cell_type": "code",
   "execution_count": 9,
   "metadata": {},
   "outputs": [
    {
     "name": "stdout",
     "output_type": "stream",
     "text": [
      "Pandas 24.390254974365234 seconds: 7723.2615394592285\n"
     ]
    }
   ],
   "source": [
    "start = time.time()\n",
    "df = pd.read_csv('data/train.csv')\n",
    "end = time.time()\n",
    "print(f'Pandas {end - start} seconds: {df.memory_usage(index=True).sum() / (1024*1024)}')"
   ]
  },
  {
   "cell_type": "code",
   "execution_count": 17,
   "metadata": {},
   "outputs": [
    {
     "name": "stdout",
     "output_type": "stream",
     "text": [
      "Polars 1.9500019550323486 seconds: 4959.78195476532\n"
     ]
    }
   ],
   "source": [
    "dtypes = {\n",
    "    'row_id': pl.Int64,\n",
    "    'timestamp': pl.Int64,\n",
    "    'user_id': pl.Int64,\n",
    "    'content_id': pl.Int64,\n",
    "    'content_type_id': pl.Int8,\n",
    "    'task_container_id': pl.Int64,\n",
    "    'user_answer': pl.Int8,\n",
    "    'answered_correctly': pl.Int8,\n",
    "    'prior_question_elapsed_time': pl.Float64,\n",
    "    'prior_question_had_explanation': pl.Boolean\n",
    "}\n",
    "\n",
    "start = time.time()\n",
    "df = pl.read_csv('data/train.csv', schema_overrides=dtypes)\n",
    "end = time.time()\n",
    "\n",
    "print(f'Polars {end - start} seconds: {df.estimated_size('mb')}')"
   ]
  },
  {
   "cell_type": "code",
   "execution_count": 20,
   "metadata": {},
   "outputs": [
    {
     "name": "stderr",
     "output_type": "stream",
     "text": [
      "/var/folders/1_/xrdl4qms2fz_3_d7z_zkvp1w0000gn/T/ipykernel_871/3489478095.py:15: UserWarning: Instantiating BooleanDtype without any arguments.Pass a BooleanDtype instance to silence this warning.\n",
      "  df = pd.read_csv('data/train.csv', dtype=dtypes)\n",
      "/var/folders/1_/xrdl4qms2fz_3_d7z_zkvp1w0000gn/T/ipykernel_871/3489478095.py:15: UserWarning: Instantiating BooleanDtype without any arguments.Pass a BooleanDtype instance to silence this warning.\n",
      "  df = pd.read_csv('data/train.csv', dtype=dtypes)\n"
     ]
    },
    {
     "name": "stdout",
     "output_type": "stream",
     "text": [
      "Pandas 46.74800515174866 seconds: 5792.446186065674\n"
     ]
    }
   ],
   "source": [
    "dtypes = {\n",
    "    'row_id': np.int64,\n",
    "    'timestamp': np.int64,\n",
    "    'user_id': np.int64,\n",
    "    'content_id': np.int64,\n",
    "    'content_type_id': np.int64,\n",
    "    'task_container_id': np.int64,\n",
    "    'user_answer': np.int8,\n",
    "    'answered_correctly': np.int8,\n",
    "    'prior_question_elapsed_time': np.float64,\n",
    "    'prior_question_had_explanation': pd.BooleanDtype\n",
    "}\n",
    "\n",
    "start = time.time()\n",
    "df = pd.read_csv('data/train.csv', dtype=dtypes)\n",
    "end = time.time()\n",
    "\n",
    "print(f'Pandas {end - start} seconds: {df.memory_usage(index=True).sum() / (1024*1024)}')"
   ]
  },
  {
   "cell_type": "code",
   "execution_count": 21,
   "metadata": {},
   "outputs": [
    {
     "name": "stdout",
     "output_type": "stream",
     "text": [
      "Memory usage of dataframe df is 6987.14 MB\n",
      "Memory usage of dataframe df became 2642.8 MB\n"
     ]
    }
   ],
   "source": [
    "def reduce_memory_usage_pl(df, name):\n",
    "    \"\"\" Reduce memory usage by polars dataframe {df} with name {name} by changing its data types.\n",
    "        Original pandas version of this function: https://www.kaggle.com/code/arjanso/reducing-dataframe-memory-size-by-65 \"\"\"\n",
    "    print(f\"Memory usage of dataframe {name} is {round(df.estimated_size('mb'), 2)} MB\")\n",
    "    Numeric_Int_types = [pl.Int8,pl.Int16,pl.Int32,pl.Int64]\n",
    "    Numeric_Float_types = [pl.Float32,pl.Float64]    \n",
    "    for col in df.columns:\n",
    "        col_type = df[col].dtype\n",
    "        c_min = df[col].min()\n",
    "        c_max = df[col].max()\n",
    "        if col_type in Numeric_Int_types:\n",
    "            if c_min > np.iinfo(np.int8).min and c_max < np.iinfo(np.int8).max:\n",
    "                df = df.with_columns(df[col].cast(pl.Int8))\n",
    "            elif c_min > np.iinfo(np.int16).min and c_max < np.iinfo(np.int16).max:\n",
    "                df = df.with_columns(df[col].cast(pl.Int16))\n",
    "            elif c_min > np.iinfo(np.int32).min and c_max < np.iinfo(np.int32).max:\n",
    "                df = df.with_columns(df[col].cast(pl.Int32))\n",
    "            elif c_min > np.iinfo(np.int64).min and c_max < np.iinfo(np.int64).max:\n",
    "                   df = df.with_columns(df[col].cast(pl.Int64))\n",
    "        elif col_type in Numeric_Float_types:\n",
    "            if c_min > np.finfo(np.float32).min and c_max < np.finfo(np.float32).max:\n",
    "                df = df.with_columns(df[col].cast(pl.Float32))\n",
    "            else:\n",
    "                pass\n",
    "        elif col_type == pl.Utf8:\n",
    "            df = df.with_columns(df[col].cast(pl.Categorical))\n",
    "        else:\n",
    "            pass\n",
    "    print(f\"Memory usage of dataframe {name} became {round(df.estimated_size('mb'), 2)} MB\")\n",
    "    return df\n",
    "\n",
    "df = pl.read_csv('data/train.csv')\n",
    "\n",
    "df = reduce_memory_usage_pl(df, 'df')"
   ]
  },
  {
   "cell_type": "code",
   "execution_count": 23,
   "metadata": {},
   "outputs": [
    {
     "data": {
      "text/plain": [
       "Schema([('row_id', Int32),\n",
       "        ('timestamp', Int64),\n",
       "        ('user_id', Int32),\n",
       "        ('content_id', Int16),\n",
       "        ('content_type_id', Int8),\n",
       "        ('task_container_id', Int16),\n",
       "        ('user_answer', Int8),\n",
       "        ('answered_correctly', Int8),\n",
       "        ('prior_question_elapsed_time', Float32),\n",
       "        ('prior_question_had_explanation', Boolean)])"
      ]
     },
     "execution_count": 23,
     "metadata": {},
     "output_type": "execute_result"
    }
   ],
   "source": [
    "df.schema"
   ]
  },
  {
   "cell_type": "code",
   "execution_count": 24,
   "metadata": {},
   "outputs": [
    {
     "data": {
      "text/plain": [
       "Schema([('row_id', Int64),\n",
       "        ('timestamp', Int64),\n",
       "        ('user_id', Int64),\n",
       "        ('content_id', Int64),\n",
       "        ('content_type_id', Int64),\n",
       "        ('task_container_id', Int64),\n",
       "        ('user_answer', Int64),\n",
       "        ('answered_correctly', Int64),\n",
       "        ('prior_question_elapsed_time', Float64),\n",
       "        ('prior_question_had_explanation', Boolean)])"
      ]
     },
     "execution_count": 24,
     "metadata": {},
     "output_type": "execute_result"
    }
   ],
   "source": [
    "df = pl.read_csv('data/train.csv')\n",
    "df.schema"
   ]
  },
  {
   "cell_type": "code",
   "execution_count": null,
   "metadata": {},
   "outputs": [],
   "source": []
  }
 ],
 "metadata": {
  "kernelspec": {
   "display_name": ".venv",
   "language": "python",
   "name": "python3"
  },
  "language_info": {
   "codemirror_mode": {
    "name": "ipython",
    "version": 3
   },
   "file_extension": ".py",
   "mimetype": "text/x-python",
   "name": "python",
   "nbconvert_exporter": "python",
   "pygments_lexer": "ipython3",
   "version": "3.12.6"
  }
 },
 "nbformat": 4,
 "nbformat_minor": 2
}
