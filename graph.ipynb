{
 "cells": [
  {
   "cell_type": "code",
   "execution_count": 1,
   "metadata": {},
   "outputs": [],
   "source": [
    "import numpy as np"
   ]
  },
  {
   "cell_type": "code",
   "execution_count": 10,
   "metadata": {},
   "outputs": [
    {
     "data": {
      "text/plain": [
       "array([-0.08523045, -1.70784126,  1.91141216,  0.7293992 ])"
      ]
     },
     "execution_count": 10,
     "metadata": {},
     "output_type": "execute_result"
    }
   ],
   "source": [
    "x1 = np.array([5, 9, 4, 3, 5])\n",
    "x2 = np.array([15, 18, 18, 19, 19])\n",
    "x3 = np.array([7, 6, 7, 7, 7])\n",
    "alpha = 1\n",
    "y = np.array([24, 22, 35, 33, 36])\n",
    "\n",
    "E = np.eye(4)\n",
    "\n",
    "X = np.column_stack((np.ones(5), x1, x2, x3))\n",
    "\n",
    "w_ridge = np.linalg.inv(X.T@X + alpha*E) @ X.T @ y\n",
    "w_ridge"
   ]
  },
  {
   "cell_type": "code",
   "execution_count": null,
   "metadata": {},
   "outputs": [],
   "source": []
  }
 ],
 "metadata": {
  "kernelspec": {
   "display_name": ".venv",
   "language": "python",
   "name": "python3"
  },
  "language_info": {
   "codemirror_mode": {
    "name": "ipython",
    "version": 3
   },
   "file_extension": ".py",
   "mimetype": "text/x-python",
   "name": "python",
   "nbconvert_exporter": "python",
   "pygments_lexer": "ipython3",
   "version": "3.12.6"
  }
 },
 "nbformat": 4,
 "nbformat_minor": 2
}
